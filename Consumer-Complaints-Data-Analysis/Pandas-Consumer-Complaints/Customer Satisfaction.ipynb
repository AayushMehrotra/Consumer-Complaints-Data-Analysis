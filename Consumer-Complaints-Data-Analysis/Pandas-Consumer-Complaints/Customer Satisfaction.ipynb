{
 "cells": [
  {
   "cell_type": "markdown",
   "metadata": {},
   "source": [
    "# Customer Satisfaction Based on Response"
   ]
  },
  {
   "cell_type": "markdown",
   "metadata": {},
   "source": [
    "# Necessary Imports"
   ]
  },
  {
   "cell_type": "code",
   "execution_count": 137,
   "metadata": {
    "collapsed": true
   },
   "outputs": [],
   "source": [
    "import numpy as np\n",
    "import pandas as pd\n",
    "import matplotlib.pyplot as plt"
   ]
  },
  {
   "cell_type": "code",
   "execution_count": 138,
   "metadata": {
    "collapsed": false
   },
   "outputs": [
    {
     "name": "stdout",
     "output_type": "stream",
     "text": [
      "Using matplotlib backend: TkAgg\n",
      "Populating the interactive namespace from numpy and matplotlib\n"
     ]
    }
   ],
   "source": [
    "%pylab\n",
    "plt.style.use( 'ggplot' )"
   ]
  },
  {
   "cell_type": "markdown",
   "metadata": {},
   "source": [
    "# Reading the Data as .csv "
   ]
  },
  {
   "cell_type": "code",
   "execution_count": 139,
   "metadata": {
    "collapsed": true
   },
   "outputs": [],
   "source": [
    "consumer_dataframe = pd.read_csv( 'Consumer_Complaints.csv' , dtype = object)"
   ]
  },
  {
   "cell_type": "markdown",
   "metadata": {},
   "source": [
    "# Mapping the Yes : 1 and No :  for Timely Response and Customer Disputed"
   ]
  },
  {
   "cell_type": "code",
   "execution_count": 140,
   "metadata": {
    "collapsed": true
   },
   "outputs": [],
   "source": [
    "consumer_dataframe['response_in_time']=consumer_dataframe['Timely response?'].map({'Yes':1,'No':0})\n",
    "consumer_dataframe['satisfied']=consumer_dataframe['Consumer disputed?'].map({'Yes':1,'No':0})"
   ]
  },
  {
   "cell_type": "markdown",
   "metadata": {},
   "source": [
    "# Creating all the 4 Condition\n",
    "# --Customer Satisfied and Response In Time\n",
    "# --Customer Satisfied and Response Not In Time\n",
    "# --Customer Not Satisfied and Response Not In Time\n",
    "# --Customer Not Satisfied and Response in Time"
   ]
  },
  {
   "cell_type": "code",
   "execution_count": 234,
   "metadata": {
    "collapsed": false
   },
   "outputs": [],
   "source": [
    "consumer_dataframe['satisfied_in_time']=((consumer_dataframe['response_in_time']==1) \n",
    "                                     & (consumer_dataframe['satisfied']==1))\n",
    "consumer_dataframe['satisfied_not_in_time']=((consumer_dataframe['response_in_time']==0) \n",
    "                                             & (consumer_dataframe['satisfied']==1))\n",
    "consumer_dataframe['not_satisfied_not_in_time']=((consumer_dataframe['response_in_time']==0) \n",
    "                                            & (consumer_dataframe['satisfied']==0))\n",
    "consumer_dataframe['not_satisfied_in_time']=((consumer_dataframe['response_in_time']==1) \n",
    "                                             & (consumer_dataframe['satisfied']==0))"
   ]
  },
  {
   "cell_type": "markdown",
   "metadata": {},
   "source": [
    "# Creating the Data Frames for all above connditions and Total Complaints"
   ]
  },
  {
   "cell_type": "code",
   "execution_count": 235,
   "metadata": {
    "collapsed": false
   },
   "outputs": [],
   "source": [
    "\n",
    "st_in_time = pd.DataFrame(consumer_dataframe.groupby([ 'Company']).sum()\n",
    "                          [ 'satisfied_in_time' ])\n",
    "st_in_time.reset_index(inplace= True)\n",
    "not_st_in_time = pd.DataFrame(consumer_dataframe.groupby([ 'Company']).sum()\n",
    "                          [ 'not_satisfied_in_time' ])\n",
    "not_st_in_time.reset_index( inplace = True )\n",
    "st_not_in_time = pd.DataFrame(consumer_dataframe.groupby([ 'Company']).sum()\n",
    "                          [ 'satisfied_not_in_time' ])\n",
    "st_not_in_time.reset_index( inplace = True )\n",
    "not_st_not_in_time = pd.DataFrame(consumer_dataframe.groupby([ 'Company']).sum()\n",
    "                          [ 'not_satisfied_not_in_time' ])\n",
    "not_st_not_in_time.reset_index( inplace = True )\n",
    "total=pd.DataFrame(consumer_dataframe.groupby([ 'Company']).count()['Complaint ID'])\n",
    "total.reset_index(inplace= True)"
   ]
  },
  {
   "cell_type": "markdown",
   "metadata": {},
   "source": [
    "# Categorizing Companies based on the above Data"
   ]
  },
  {
   "cell_type": "code",
   "execution_count": 236,
   "metadata": {
    "collapsed": false
   },
   "outputs": [],
   "source": [
    "good_comp = pd.DataFrame( consumer_dataframe.groupby([ 'Company' ]).sum() \n",
    "                        [ 'satisfied_in_time' ].sort_values( ascending = False )).head( 10 )\n",
    "good_comp.reset_index( inplace = True )\n",
    "bad_comp = pd.DataFrame( consumer_dataframe.groupby([ 'Company' ]).sum() \n",
    "                        [ 'not_satisfied_in_time' ].sort_values( ascending = False )).head( 10 )\n",
    "bad_comp.reset_index( inplace = True )\n",
    "worst_comp = pd.DataFrame( consumer_dataframe.groupby([ 'Company' ]).sum() \n",
    "                        [ 'not_satisfied_not_in_time' ].sort_values( ascending = False )).head( 10 )\n",
    "worst_comp.reset_index( inplace = True )\n",
    "average_comp = pd.DataFrame( consumer_dataframe.groupby([ 'Company' ]).sum() \n",
    "                        [ 'satisfied_not_in_time' ].sort_values( ascending = False )).head( 10 )\n",
    "average_comp.reset_index( inplace = True )\n",
    "total_comp=pd.DataFrame( consumer_dataframe.groupby([ 'Company' ]).count() \n",
    "                        [ 'Complaint ID' ].sort_values( ascending = False )).head(10)\n",
    "total_comp.reset_index( inplace = True )"
   ]
  },
  {
   "cell_type": "markdown",
   "metadata": {},
   "source": [
    "# Converting the Above Companies Data into List"
   ]
  },
  {
   "cell_type": "code",
   "execution_count": 237,
   "metadata": {
    "collapsed": false
   },
   "outputs": [],
   "source": [
    "bad_comp_list = bad_comp[ 'Company' ].tolist()\n",
    "good_comp_list = good_comp[ 'Company' ].tolist()\n",
    "worst_comp_list = worst_comp[ 'Company' ].tolist()\n",
    "average_comp_list = average_comp[ 'Company' ].tolist()\n",
    "total_comp_list = total_comp[ 'Company' ].tolist()"
   ]
  },
  {
   "cell_type": "markdown",
   "metadata": {},
   "source": [
    "# Checking for the above list in the DataFrame and Creating a new DataFrame from it"
   ]
  },
  {
   "cell_type": "code",
   "execution_count": 238,
   "metadata": {
    "collapsed": false
   },
   "outputs": [],
   "source": [
    "company_good = pd.DataFrame(st_in_time[( st_in_time.Company.isin ( good_comp_list ))])\n",
    "company_bad = pd.DataFrame(not_st_in_time[( not_st_in_time.Company.isin ( bad_comp_list ))])\n",
    "company_worst = pd.DataFrame(not_st_not_in_time[( not_st_not_in_time.Company.isin ( worst_comp_list ))])\n",
    "company_average = pd.DataFrame(st_not_in_time[( st_not_in_time.Company.isin ( average_comp_list ))])\n",
    "company_total = pd.DataFrame(total[( total.Company.isin ( total_comp_list ))])"
   ]
  },
  {
   "cell_type": "markdown",
   "metadata": {},
   "source": [
    "# Setting Index as Company for Joining"
   ]
  },
  {
   "cell_type": "code",
   "execution_count": 239,
   "metadata": {
    "collapsed": false
   },
   "outputs": [],
   "source": [
    "company_good.set_index(['Company'],inplace= True)\n",
    "company_bad.set_index(['Company'],inplace= True)\n",
    "company_worst.set_index(['Company'],inplace= True)\n",
    "company_average.set_index(['Company'],inplace= True)\n",
    "company_total.set_index(['Company'],inplace= True)"
   ]
  },
  {
   "cell_type": "markdown",
   "metadata": {},
   "source": [
    "# Joining all Companies data into One DataFrame to plot"
   ]
  },
  {
   "cell_type": "code",
   "execution_count": 240,
   "metadata": {
    "collapsed": false
   },
   "outputs": [],
   "source": [
    "company_good=company_good.join(company_bad)"
   ]
  },
  {
   "cell_type": "code",
   "execution_count": 241,
   "metadata": {
    "collapsed": true
   },
   "outputs": [],
   "source": [
    "company_worst=company_worst.join(company_average)"
   ]
  },
  {
   "cell_type": "code",
   "execution_count": 242,
   "metadata": {
    "collapsed": true
   },
   "outputs": [],
   "source": [
    "company=company_good.join(company_worst)"
   ]
  },
  {
   "cell_type": "code",
   "execution_count": 246,
   "metadata": {
    "collapsed": true
   },
   "outputs": [],
   "source": [
    "company=company.join(company_total)"
   ]
  },
  {
   "cell_type": "markdown",
   "metadata": {},
   "source": [
    "# Filling on the missed(NaN) values"
   ]
  },
  {
   "cell_type": "code",
   "execution_count": 247,
   "metadata": {
    "collapsed": false
   },
   "outputs": [],
   "source": [
    "company.fillna(value=0,inplace= True)"
   ]
  },
  {
   "cell_type": "markdown",
   "metadata": {},
   "source": [
    "# Changing column names for better Understanding"
   ]
  },
  {
   "cell_type": "code",
   "execution_count": 262,
   "metadata": {
    "collapsed": false
   },
   "outputs": [],
   "source": [
    "company.columns=['Satisfied In Time','Not Satisfied even after Reponse in Time','Neither Responded Nor Satisfied Customer','Customer Satisfied Even after late Response','Total No of Complaint']"
   ]
  },
  {
   "cell_type": "markdown",
   "metadata": {},
   "source": [
    "# Ploting a Bar Graph with the above data"
   ]
  },
  {
   "cell_type": "code",
   "execution_count": 263,
   "metadata": {
    "collapsed": false
   },
   "outputs": [],
   "source": [
    "ax = company.plot(kind = 'bar', title = \"Customer Satisfaction\",\n",
    "                colormap = \"Spectral\", figsize = (15,10),legend = True, fontsize = 12)\n",
    "legend = ax.legend()\n",
    "legend.draggable(state=True)\n",
    "ax.set_xlabel(\"Company\",fontsize = 18)\n",
    "ax.set_ylabel(\"Number of Complaints\",fontsize = 18)\n",
    "plt.show()"
   ]
  },
  {
   "cell_type": "code",
   "execution_count": null,
   "metadata": {
    "collapsed": true
   },
   "outputs": [],
   "source": []
  }
 ],
 "metadata": {
  "kernelspec": {
   "display_name": "Python 3",
   "language": "python",
   "name": "python3"
  },
  "language_info": {
   "codemirror_mode": {
    "name": "ipython",
    "version": 3
   },
   "file_extension": ".py",
   "mimetype": "text/x-python",
   "name": "python",
   "nbconvert_exporter": "python",
   "pygments_lexer": "ipython3",
   "version": "3.5.2"
  }
 },
 "nbformat": 4,
 "nbformat_minor": 2
}
