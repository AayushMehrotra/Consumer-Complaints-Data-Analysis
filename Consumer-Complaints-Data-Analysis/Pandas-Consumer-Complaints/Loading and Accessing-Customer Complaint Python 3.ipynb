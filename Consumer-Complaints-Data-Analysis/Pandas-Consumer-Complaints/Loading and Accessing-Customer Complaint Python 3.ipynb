{
 "cells": [
  {
   "cell_type": "markdown",
   "metadata": {},
   "source": [
    "## Consumer Complaints"
   ]
  },
  {
   "cell_type": "markdown",
   "metadata": {},
   "source": [
    "## Imports"
   ]
  },
  {
   "cell_type": "code",
   "execution_count": 1,
   "metadata": {
    "collapsed": true
   },
   "outputs": [],
   "source": [
    "import numpy as np\n",
    "import pandas as pd\n",
    "import matplotlib.pyplot as plt"
   ]
  },
  {
   "cell_type": "code",
   "execution_count": 2,
   "metadata": {
    "collapsed": false
   },
   "outputs": [
    {
     "name": "stdout",
     "output_type": "stream",
     "text": [
      "Using matplotlib backend: TkAgg\n",
      "Populating the interactive namespace from numpy and matplotlib\n"
     ]
    }
   ],
   "source": [
    "%pylab "
   ]
  },
  {
   "cell_type": "code",
   "execution_count": 3,
   "metadata": {
    "collapsed": true
   },
   "outputs": [],
   "source": [
    "plt.style.use( 'ggplot' )"
   ]
  },
  {
   "cell_type": "markdown",
   "metadata": {},
   "source": [
    "# Reading Data"
   ]
  },
  {
   "cell_type": "code",
   "execution_count": 4,
   "metadata": {
    "collapsed": false
   },
   "outputs": [],
   "source": [
    "consumer_dataframe = pd.read_csv( 'Consumer_Complaints.csv' , dtype = object)"
   ]
  },
  {
   "cell_type": "markdown",
   "metadata": {},
   "source": [
    "# Plotting Graph Product Wise"
   ]
  },
  {
   "cell_type": "code",
   "execution_count": 5,
   "metadata": {
    "collapsed": true
   },
   "outputs": [],
   "source": [
    "product = consumer_dataframe[ 'Product' ]"
   ]
  },
  {
   "cell_type": "code",
   "execution_count": 6,
   "metadata": {
    "collapsed": false
   },
   "outputs": [],
   "source": [
    "value_counts = pd.DataFrame(product.value_counts())"
   ]
  },
  {
   "cell_type": "code",
   "execution_count": 7,
   "metadata": {
    "collapsed": false
   },
   "outputs": [],
   "source": [
    "half = int(len(value_counts)/2)\n",
    "first_half, second_half = (value_counts[:half], value_counts[half:])"
   ]
  },
  {
   "cell_type": "code",
   "execution_count": 8,
   "metadata": {
    "collapsed": true
   },
   "outputs": [],
   "source": [
    "value_counts.reset_index( inplace = True )\n",
    "value_counts.columns = ['Product Name','Quantity']\n",
    "value_counts.set_index( 'Product Name', inplace = True )"
   ]
  },
  {
   "cell_type": "code",
   "execution_count": 9,
   "metadata": {
    "collapsed": false
   },
   "outputs": [
    {
     "data": {
      "text/plain": [
       "<matplotlib.axes._subplots.AxesSubplot at 0x7f58cb5c9390>"
      ]
     },
     "execution_count": 9,
     "metadata": {},
     "output_type": "execute_result"
    }
   ],
   "source": [
    "first_half.plot( kind = 'bar' )"
   ]
  },
  {
   "cell_type": "code",
   "execution_count": 10,
   "metadata": {
    "collapsed": false
   },
   "outputs": [
    {
     "data": {
      "text/plain": [
       "<matplotlib.axes._subplots.AxesSubplot at 0x7f58cb640e80>"
      ]
     },
     "execution_count": 10,
     "metadata": {},
     "output_type": "execute_result"
    }
   ],
   "source": [
    "second_half.plot( kind = 'bar' )"
   ]
  },
  {
   "cell_type": "markdown",
   "metadata": {},
   "source": [
    "# Graph of Products Sold in 2013-2015"
   ]
  },
  {
   "cell_type": "code",
   "execution_count": 11,
   "metadata": {
    "collapsed": false
   },
   "outputs": [],
   "source": [
    "consumer_dataframe[ 'Date received' ] = consumer_dataframe[ 'Date received' ].str[ 6: ].astype( int )"
   ]
  },
  {
   "cell_type": "code",
   "execution_count": 12,
   "metadata": {
    "collapsed": false
   },
   "outputs": [],
   "source": [
    "prod = consumer_dataframe[ ( consumer_dataframe[ 'Date received' ] >= 2013 ) & \n",
    "                          ( consumer_dataframe[ 'Date received' ] <= 2015 )]"
   ]
  },
  {
   "cell_type": "code",
   "execution_count": 13,
   "metadata": {
    "collapsed": false
   },
   "outputs": [],
   "source": [
    "value_counts1 = pd.DataFrame( prod[ 'Product' ].value_counts())"
   ]
  },
  {
   "cell_type": "code",
   "execution_count": 14,
   "metadata": {
    "collapsed": true
   },
   "outputs": [],
   "source": [
    "half1 = int(len(value_counts)/2)\n",
    "first_half1, second_half1 = (value_counts1[:half1], value_counts1[half1:])"
   ]
  },
  {
   "cell_type": "code",
   "execution_count": 15,
   "metadata": {
    "collapsed": true
   },
   "outputs": [],
   "source": [
    "value_counts1.reset_index( inplace = True )\n",
    "value_counts1.columns = ['Product Name','Quantity']\n",
    "value_counts1.set_index( 'Product Name', inplace = True )"
   ]
  },
  {
   "cell_type": "code",
   "execution_count": 16,
   "metadata": {
    "collapsed": false
   },
   "outputs": [
    {
     "data": {
      "text/plain": [
       "<matplotlib.axes._subplots.AxesSubplot at 0x7f58c9f49d68>"
      ]
     },
     "execution_count": 16,
     "metadata": {},
     "output_type": "execute_result"
    }
   ],
   "source": [
    "first_half1.plot( kind = 'bar' )"
   ]
  },
  {
   "cell_type": "code",
   "execution_count": 17,
   "metadata": {
    "collapsed": false
   },
   "outputs": [
    {
     "data": {
      "text/plain": [
       "<matplotlib.axes._subplots.AxesSubplot at 0x7f58c9e7a3c8>"
      ]
     },
     "execution_count": 17,
     "metadata": {},
     "output_type": "execute_result"
    }
   ],
   "source": [
    "second_half1.plot( kind = 'bar' )"
   ]
  },
  {
   "cell_type": "markdown",
   "metadata": {},
   "source": [
    "# State wise Company and Complaints"
   ]
  },
  {
   "cell_type": "code",
   "execution_count": 18,
   "metadata": {
    "collapsed": false
   },
   "outputs": [],
   "source": [
    "st = consumer_dataframe.groupby([ 'Company','State']).count()[ 'Complaint ID' ]\n",
    "states = pd.DataFrame( st )\n",
    "states.reset_index( inplace = True )"
   ]
  },
  {
   "cell_type": "code",
   "execution_count": 19,
   "metadata": {
    "collapsed": false
   },
   "outputs": [],
   "source": [
    "bad_comp = pd.DataFrame( consumer_dataframe.groupby([ 'Company' ]).count() \n",
    "                        [ 'Complaint ID' ].sort_values( ascending = False )).head( 10 )\n",
    "bad_comp.reset_index( inplace = True )\n",
    "bad_state = pd.DataFrame( consumer_dataframe.groupby([ 'State' ]).count() \n",
    "                        [ 'Complaint ID' ].sort_values( ascending = False )).head( 10 )\n",
    "bad_state.reset_index(inplace = True)"
   ]
  },
  {
   "cell_type": "code",
   "execution_count": 20,
   "metadata": {
    "collapsed": false
   },
   "outputs": [],
   "source": [
    "bad_comp_list = bad_comp[ 'Company' ].tolist()\n",
    "bad_state_list = bad_state[ 'State' ].tolist()"
   ]
  },
  {
   "cell_type": "code",
   "execution_count": 21,
   "metadata": {
    "collapsed": false
   },
   "outputs": [],
   "source": [
    "company_state = pd.DataFrame( states[( states.State.isin ( bad_state_list ))\n",
    "                                     & ( states.Company.isin( bad_comp_list ))])"
   ]
  },
  {
   "cell_type": "code",
   "execution_count": 23,
   "metadata": {
    "collapsed": false
   },
   "outputs": [],
   "source": [
    "datas = pd.DataFrame(company_state.groupby(['Company','State']).sum()['Complaint ID'])\n",
    "datas = datas.unstack(level=0)\n",
    "Using=pd.DataFrame(datas[('Complaint ID')].sum())\n",
    "Using.reset_index(inplace= True)\n",
    "Using.columns=['Company','Total_Complaints']\n",
    "using=[]\n",
    "for i in range(10):\n",
    "    using.append(Using['Company'][i] + ' , ' +str(Using['Total_Complaints'][i]))"
   ]
  },
  {
   "cell_type": "code",
   "execution_count": 24,
   "metadata": {
    "collapsed": false
   },
   "outputs": [],
   "source": [
    "ax = datas.plot(kind = 'bar', title = \"Worst Companies in Worst States\", stacked = True, colormap = \"Spectral\",\n",
    "                      figsize = (15,10),legend = True, fontsize = 12)\n",
    "legend = ax.legend(using)\n",
    "legend.draggable(state=True)\n",
    "ax.set_xlabel(\"States\",fontsize = 18)\n",
    "ax.set_ylabel(\"Number of Complaints\",fontsize = 18)\n",
    "plt.show()"
   ]
  },
  {
   "cell_type": "code",
   "execution_count": null,
   "metadata": {
    "collapsed": true
   },
   "outputs": [],
   "source": []
  }
 ],
 "metadata": {
  "kernelspec": {
   "display_name": "Python 3",
   "language": "python",
   "name": "python3"
  },
  "language_info": {
   "codemirror_mode": {
    "name": "ipython",
    "version": 3
   },
   "file_extension": ".py",
   "mimetype": "text/x-python",
   "name": "python",
   "nbconvert_exporter": "python",
   "pygments_lexer": "ipython3",
   "version": "3.5.2"
  }
 },
 "nbformat": 4,
 "nbformat_minor": 2
}
