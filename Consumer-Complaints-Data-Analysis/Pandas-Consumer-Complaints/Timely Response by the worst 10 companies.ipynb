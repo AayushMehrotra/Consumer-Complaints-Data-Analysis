{
 "cells": [
  {
   "cell_type": "markdown",
   "metadata": {},
   "source": [
    "## Worst Response Time for maximum complaints"
   ]
  },
  {
   "cell_type": "markdown",
   "metadata": {},
   "source": [
    "## Importing necessary packages"
   ]
  },
  {
   "cell_type": "code",
   "execution_count": 1,
   "metadata": {
    "collapsed": true
   },
   "outputs": [],
   "source": [
    "import numpy as np\n",
    "import pandas as pd\n",
    "import matplotlib.pyplot as plt"
   ]
  },
  {
   "cell_type": "code",
   "execution_count": 2,
   "metadata": {
    "collapsed": false
   },
   "outputs": [
    {
     "name": "stdout",
     "output_type": "stream",
     "text": [
      "Using matplotlib backend: TkAgg\n",
      "Populating the interactive namespace from numpy and matplotlib\n"
     ]
    }
   ],
   "source": [
    "%pylab"
   ]
  },
  {
   "cell_type": "code",
   "execution_count": 3,
   "metadata": {
    "collapsed": true
   },
   "outputs": [],
   "source": [
    "plt.style.use( 'ggplot' )"
   ]
  },
  {
   "cell_type": "markdown",
   "metadata": {},
   "source": [
    "# Reading the Data as CSV File"
   ]
  },
  {
   "cell_type": "code",
   "execution_count": 4,
   "metadata": {
    "collapsed": false
   },
   "outputs": [],
   "source": [
    "consumer_dataframe = pd.read_csv( 'Consumer_Complaints.csv' , dtype = object)"
   ]
  },
  {
   "cell_type": "markdown",
   "metadata": {},
   "source": [
    "# Creating a new Column as response and mapping a Positive Response as 0 and Negative or No response as 1"
   ]
  },
  {
   "cell_type": "code",
   "execution_count": 5,
   "metadata": {
    "collapsed": false
   },
   "outputs": [],
   "source": [
    "consumer_dataframe['response']=consumer_dataframe['Timely response?'].map({'Yes':0,'No':1})"
   ]
  },
  {
   "cell_type": "markdown",
   "metadata": {},
   "source": [
    "# Summing the number of unattended complaints by Company in a State"
   ]
  },
  {
   "cell_type": "code",
   "execution_count": 6,
   "metadata": {
    "collapsed": false
   },
   "outputs": [],
   "source": [
    "st = consumer_dataframe.groupby([ 'Company','State']).sum()[ 'response' ]\n",
    "states = pd.DataFrame( st )\n",
    "states.reset_index( inplace = True )"
   ]
  },
  {
   "cell_type": "markdown",
   "metadata": {},
   "source": [
    "# Getting a DataFrame of Worst Response Wise Companies and States"
   ]
  },
  {
   "cell_type": "code",
   "execution_count": 7,
   "metadata": {
    "collapsed": false
   },
   "outputs": [],
   "source": [
    "bad_comp = pd.DataFrame( consumer_dataframe.groupby([ 'Company' ]).sum() \n",
    "                        [ 'response' ].sort_values( ascending = False )).head( 10 )\n",
    "bad_comp.reset_index( inplace = True )\n",
    "bad_state = pd.DataFrame( consumer_dataframe.groupby([ 'State' ]).sum() \n",
    "                        [ 'response' ].sort_values( ascending = False )).head( 10 )\n",
    "bad_state.reset_index(inplace = True)"
   ]
  },
  {
   "cell_type": "markdown",
   "metadata": {},
   "source": [
    "# Conveterting the above DataFrame into a list of Worst Companies and States"
   ]
  },
  {
   "cell_type": "code",
   "execution_count": 8,
   "metadata": {
    "collapsed": false
   },
   "outputs": [],
   "source": [
    "bad_comp_list = bad_comp[ 'Company' ].tolist()\n",
    "bad_state_list = bad_state[ 'State' ].tolist()"
   ]
  },
  {
   "cell_type": "markdown",
   "metadata": {},
   "source": [
    "# Searching for the above achieved list in the DataFrame for plot"
   ]
  },
  {
   "cell_type": "code",
   "execution_count": 9,
   "metadata": {
    "collapsed": false
   },
   "outputs": [],
   "source": [
    "company_state = pd.DataFrame( states[( states.State.isin ( bad_state_list ))\n",
    "                                     & ( states.Company.isin( bad_comp_list ))])"
   ]
  },
  {
   "cell_type": "markdown",
   "metadata": {},
   "source": [
    "# Grouping by Company and State and then unstacking the above DataFrame for plot"
   ]
  },
  {
   "cell_type": "code",
   "execution_count": 10,
   "metadata": {
    "collapsed": false
   },
   "outputs": [],
   "source": [
    "datas = pd.DataFrame(company_state.groupby(['Company','State']).sum()['response'])\n",
    "datas = datas.unstack(level=0)\n",
    "Using=pd.DataFrame(datas[('response')].sum())\n",
    "Using.reset_index(inplace= True)\n",
    "Using.columns=['Company','Total_Complaints']\n",
    "using=[]\n",
    "for i in range(10):\n",
    "    using.append(Using['Company'][i] + ' , ' +str(Using['Total_Complaints'][i]))"
   ]
  },
  {
   "cell_type": "markdown",
   "metadata": {},
   "source": [
    "# Plotting the stacked graph showing complaints left unresolved in a State by the Company"
   ]
  },
  {
   "cell_type": "code",
   "execution_count": 11,
   "metadata": {
    "collapsed": false
   },
   "outputs": [],
   "source": [
    "ax = datas.plot(kind = 'bar', title = \"Worst Companies in Worst States for Timely response\", stacked = True, \n",
    "                colormap = \"Spectral\", figsize = (15,10),legend = True, fontsize = 12)\n",
    "legend = ax.legend(using)\n",
    "legend.draggable(state=True)\n",
    "ax.set_xlabel(\"States\",fontsize = 18)\n",
    "ax.set_ylabel(\"Number of Complaints Unattended\",fontsize = 18)\n",
    "plt.show()"
   ]
  },
  {
   "cell_type": "code",
   "execution_count": null,
   "metadata": {
    "collapsed": true
   },
   "outputs": [],
   "source": []
  }
 ],
 "metadata": {
  "kernelspec": {
   "display_name": "Python 3",
   "language": "python",
   "name": "python3"
  },
  "language_info": {
   "codemirror_mode": {
    "name": "ipython",
    "version": 3
   },
   "file_extension": ".py",
   "mimetype": "text/x-python",
   "name": "python",
   "nbconvert_exporter": "python",
   "pygments_lexer": "ipython3",
   "version": "3.5.2"
  }
 },
 "nbformat": 4,
 "nbformat_minor": 2
}
