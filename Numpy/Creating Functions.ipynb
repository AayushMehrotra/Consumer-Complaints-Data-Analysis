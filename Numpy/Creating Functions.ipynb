{
 "cells": [
  {
   "cell_type": "code",
   "execution_count": 37,
   "metadata": {
    "collapsed": true
   },
   "outputs": [],
   "source": [
    "import numpy as np"
   ]
  },
  {
   "cell_type": "markdown",
   "metadata": {},
   "source": [
    "# 1- Arange Followed by reshape"
   ]
  },
  {
   "cell_type": "code",
   "execution_count": 2,
   "metadata": {
    "collapsed": false
   },
   "outputs": [],
   "source": [
    "def arange_reshape(x,a,b):\n",
    "    oneD = []\n",
    "    twoD = []\n",
    "    midD = []\n",
    "    for i in range(x):\n",
    "        oneD.append(i)\n",
    "    l = 0\n",
    "    j = 0\n",
    "    k = 0\n",
    "    while k < a:\n",
    "        while j < b :\n",
    "            midD.append(oneD[l])\n",
    "            l+= 1\n",
    "            j+= 1\n",
    "        k+= 1\n",
    "        j = 0\n",
    "        twoD.append(midD)\n",
    "        midD = []\n",
    "    return np.array(twoD)\n",
    "            \n",
    "        "
   ]
  },
  {
   "cell_type": "code",
   "execution_count": 3,
   "metadata": {
    "collapsed": false
   },
   "outputs": [
    {
     "data": {
      "text/plain": [
       "array([[ 0,  1,  2,  3,  4],\n",
       "       [ 5,  6,  7,  8,  9],\n",
       "       [10, 11, 12, 13, 14]])"
      ]
     },
     "execution_count": 3,
     "metadata": {},
     "output_type": "execute_result"
    }
   ],
   "source": [
    "arange_reshape(15, 3, 5)"
   ]
  },
  {
   "cell_type": "markdown",
   "metadata": {},
   "source": [
    "# 2- Ravel"
   ]
  },
  {
   "cell_type": "code",
   "execution_count": 4,
   "metadata": {
    "collapsed": false
   },
   "outputs": [
    {
     "data": {
      "text/plain": [
       "array([[ 1,  3, 11],\n",
       "       [ 2,  0, 14],\n",
       "       [17,  0,  1]])"
      ]
     },
     "execution_count": 4,
     "metadata": {},
     "output_type": "execute_result"
    }
   ],
   "source": [
    "arr = np.array([[1, 3, 11],[2, 0, 14],[17, 0, 1]])\n",
    "arr"
   ]
  },
  {
   "cell_type": "code",
   "execution_count": 41,
   "metadata": {
    "collapsed": false
   },
   "outputs": [],
   "source": [
    "def ravel(arr):\n",
    "    oneD = []\n",
    "    for rows in arr:\n",
    "        for elements in rows:\n",
    "            oneD.append(elements)\n",
    "    return oneD"
   ]
  },
  {
   "cell_type": "code",
   "execution_count": 42,
   "metadata": {
    "collapsed": false
   },
   "outputs": [
    {
     "data": {
      "text/plain": [
       "[1, 3, 11, 2, 0, 14, 17, 0, 1]"
      ]
     },
     "execution_count": 42,
     "metadata": {},
     "output_type": "execute_result"
    }
   ],
   "source": [
    "ravel(arr)"
   ]
  },
  {
   "cell_type": "markdown",
   "metadata": {},
   "source": [
    "# 3- Finding MAX in an array"
   ]
  },
  {
   "cell_type": "code",
   "execution_count": 6,
   "metadata": {
    "collapsed": false
   },
   "outputs": [],
   "source": [
    "def max(arr):\n",
    "    oneD = ravel(arr)\n",
    "    maximum = oneD[1]\n",
    "    i = 1\n",
    "    for i in oneD:\n",
    "        if i > maximum:\n",
    "            maximum = i\n",
    "    return maximum\n",
    "        "
   ]
  },
  {
   "cell_type": "code",
   "execution_count": 7,
   "metadata": {
    "collapsed": false
   },
   "outputs": [
    {
     "data": {
      "text/plain": [
       "17"
      ]
     },
     "execution_count": 7,
     "metadata": {},
     "output_type": "execute_result"
    }
   ],
   "source": [
    "max(arr)"
   ]
  },
  {
   "cell_type": "markdown",
   "metadata": {},
   "source": [
    "# 4- Finding MIN in an array"
   ]
  },
  {
   "cell_type": "code",
   "execution_count": 8,
   "metadata": {
    "collapsed": true
   },
   "outputs": [],
   "source": [
    "def min(arr):\n",
    "    oneD = ravel(arr)\n",
    "    minimum = oneD[1]\n",
    "    i=1\n",
    "    for i in oneD:\n",
    "        if i < minimum:\n",
    "            minimum = i \n",
    "    return minimum\n",
    "        "
   ]
  },
  {
   "cell_type": "code",
   "execution_count": 9,
   "metadata": {
    "collapsed": false
   },
   "outputs": [
    {
     "data": {
      "text/plain": [
       "0"
      ]
     },
     "execution_count": 9,
     "metadata": {},
     "output_type": "execute_result"
    }
   ],
   "source": [
    "min(arr)"
   ]
  },
  {
   "cell_type": "markdown",
   "metadata": {},
   "source": [
    "# 5- Finding argMAX in an array"
   ]
  },
  {
   "cell_type": "code",
   "execution_count": 10,
   "metadata": {
    "collapsed": false
   },
   "outputs": [],
   "source": [
    "def argmax(arr):\n",
    "    maximum = max(arr)\n",
    "    oneD = ravel(arr)\n",
    "    for i in range(len(oneD)):\n",
    "        if oneD[i] == maximum:\n",
    "            return i\n",
    "        "
   ]
  },
  {
   "cell_type": "code",
   "execution_count": 11,
   "metadata": {
    "collapsed": false
   },
   "outputs": [
    {
     "data": {
      "text/plain": [
       "6"
      ]
     },
     "execution_count": 11,
     "metadata": {},
     "output_type": "execute_result"
    }
   ],
   "source": [
    "argmax(arr)"
   ]
  },
  {
   "cell_type": "code",
   "execution_count": 12,
   "metadata": {
    "collapsed": false
   },
   "outputs": [
    {
     "data": {
      "text/plain": [
       "6"
      ]
     },
     "execution_count": 12,
     "metadata": {},
     "output_type": "execute_result"
    }
   ],
   "source": [
    "np.argmax(arr)"
   ]
  },
  {
   "cell_type": "markdown",
   "metadata": {},
   "source": [
    "# 6- Finding argMIN in an arry"
   ]
  },
  {
   "cell_type": "code",
   "execution_count": 13,
   "metadata": {
    "collapsed": true
   },
   "outputs": [],
   "source": [
    "def argmin(arr):\n",
    "    minimum = min(arr)\n",
    "    oneD = ravel(arr)\n",
    "    for i in range(len(oneD)):\n",
    "        if oneD[i] == minimum:\n",
    "            return i\n",
    "      "
   ]
  },
  {
   "cell_type": "code",
   "execution_count": 14,
   "metadata": {
    "collapsed": false
   },
   "outputs": [
    {
     "data": {
      "text/plain": [
       "4"
      ]
     },
     "execution_count": 14,
     "metadata": {},
     "output_type": "execute_result"
    }
   ],
   "source": [
    "argmin(arr)"
   ]
  },
  {
   "cell_type": "markdown",
   "metadata": {},
   "source": [
    "# 7- Sum"
   ]
  },
  {
   "cell_type": "code",
   "execution_count": 15,
   "metadata": {
    "collapsed": true
   },
   "outputs": [],
   "source": [
    "def sum(arr):\n",
    "    oneD = ravel(arr)\n",
    "    sum = 0\n",
    "    for i in oneD:\n",
    "        sum+=i\n",
    "    return sum\n",
    "        "
   ]
  },
  {
   "cell_type": "code",
   "execution_count": 16,
   "metadata": {
    "collapsed": false
   },
   "outputs": [
    {
     "data": {
      "text/plain": [
       "49"
      ]
     },
     "execution_count": 16,
     "metadata": {},
     "output_type": "execute_result"
    }
   ],
   "source": [
    "sum(arr)"
   ]
  },
  {
   "cell_type": "markdown",
   "metadata": {},
   "source": [
    "# 8- Mean"
   ]
  },
  {
   "cell_type": "code",
   "execution_count": 17,
   "metadata": {
    "collapsed": true
   },
   "outputs": [],
   "source": [
    "def mean(arr):\n",
    "    oneD = ravel(arr)\n",
    "    sum = 0\n",
    "    len = 0\n",
    "    for i in oneD:\n",
    "        sum+=i\n",
    "        len+=1\n",
    "    return float(sum/len)"
   ]
  },
  {
   "cell_type": "code",
   "execution_count": 18,
   "metadata": {
    "collapsed": false
   },
   "outputs": [
    {
     "data": {
      "text/plain": [
       "5.444444444444445"
      ]
     },
     "execution_count": 18,
     "metadata": {},
     "output_type": "execute_result"
    }
   ],
   "source": [
    "mean(arr)"
   ]
  },
  {
   "cell_type": "code",
   "execution_count": 19,
   "metadata": {
    "collapsed": false
   },
   "outputs": [
    {
     "data": {
      "text/plain": [
       "5.4444444444444446"
      ]
     },
     "execution_count": 19,
     "metadata": {},
     "output_type": "execute_result"
    }
   ],
   "source": [
    "np.mean(arr)"
   ]
  },
  {
   "cell_type": "markdown",
   "metadata": {},
   "source": [
    "# 9- Find Shape"
   ]
  },
  {
   "cell_type": "code",
   "execution_count": 20,
   "metadata": {
    "collapsed": false
   },
   "outputs": [],
   "source": [
    "def shape(arr):\n",
    "    r = 0\n",
    "    c = 0\n",
    "    for rows in arr:\n",
    "        r+=1\n",
    "        c = 0\n",
    "        for columns in rows:\n",
    "            c+=1\n",
    "    return r, c"
   ]
  },
  {
   "cell_type": "markdown",
   "metadata": {},
   "source": [
    "# 10- Diag"
   ]
  },
  {
   "cell_type": "code",
   "execution_count": 21,
   "metadata": {
    "collapsed": false
   },
   "outputs": [],
   "source": [
    "def diag(arr):\n",
    "    r, c = shape(arr)\n",
    "    diagonal = []\n",
    "    for i in range(r):\n",
    "       for j in range(c):\n",
    "            if(i == j):\n",
    "                diagonal.append(arr[i][j])\n",
    "    return diagonal"
   ]
  },
  {
   "cell_type": "code",
   "execution_count": 22,
   "metadata": {
    "collapsed": false
   },
   "outputs": [
    {
     "data": {
      "text/plain": [
       "[1, 0, 1]"
      ]
     },
     "execution_count": 22,
     "metadata": {},
     "output_type": "execute_result"
    }
   ],
   "source": [
    "diag(arr)"
   ]
  },
  {
   "cell_type": "markdown",
   "metadata": {},
   "source": [
    "# 11- Flatten"
   ]
  },
  {
   "cell_type": "code",
   "execution_count": 23,
   "metadata": {
    "collapsed": false
   },
   "outputs": [],
   "source": [
    "def flatten(arr, order = 'C'):\n",
    "    if order == 'C':\n",
    "        return ravel(arr)\n",
    "    if order == 'F':\n",
    "        oneD = []\n",
    "        r, c= shape(arr)\n",
    "        for columns in range(c):\n",
    "            for rows in range(r):\n",
    "               oneD.append(arr[rows][columns])\n",
    "        return oneD"
   ]
  },
  {
   "cell_type": "markdown",
   "metadata": {},
   "source": [
    "# 12- Identity/Eye"
   ]
  },
  {
   "cell_type": "code",
   "execution_count": 24,
   "metadata": {
    "collapsed": true
   },
   "outputs": [],
   "source": [
    "def eye(arr):\n",
    "    r, c = shape(arr)\n",
    "    for i in range(r):\n",
    "        for j in range(c):\n",
    "            if (i == j):\n",
    "                arr[i][j] = 1\n",
    "            else:\n",
    "                arr[i][j] = 0\n",
    "    return arr"
   ]
  },
  {
   "cell_type": "code",
   "execution_count": 25,
   "metadata": {
    "collapsed": false
   },
   "outputs": [
    {
     "ename": "NameError",
     "evalue": "name 'kk' is not defined",
     "output_type": "error",
     "traceback": [
      "\u001b[0;31m---------------------------------------------------------------------------\u001b[0m",
      "\u001b[0;31mNameError\u001b[0m                                 Traceback (most recent call last)",
      "\u001b[0;32m<ipython-input-25-1b89cc66bf1e>\u001b[0m in \u001b[0;36m<module>\u001b[0;34m()\u001b[0m\n\u001b[0;32m----> 1\u001b[0;31m \u001b[0meye\u001b[0m\u001b[0;34m(\u001b[0m\u001b[0mkk\u001b[0m\u001b[0;34m)\u001b[0m\u001b[0;34m\u001b[0m\u001b[0m\n\u001b[0m",
      "\u001b[0;31mNameError\u001b[0m: name 'kk' is not defined"
     ]
    }
   ],
   "source": [
    "eye(kk)"
   ]
  },
  {
   "cell_type": "markdown",
   "metadata": {},
   "source": [
    "# 13- Triu"
   ]
  },
  {
   "cell_type": "code",
   "execution_count": null,
   "metadata": {
    "collapsed": false
   },
   "outputs": [],
   "source": [
    "arr = np.array([[1,3,11],[2,0,14],[17,0,1]])\n",
    "arr"
   ]
  },
  {
   "cell_type": "code",
   "execution_count": null,
   "metadata": {
    "collapsed": false
   },
   "outputs": [],
   "source": [
    "def triu(arr):\n",
    "    r, c = shape(arr)\n",
    "    for i in range(r):\n",
    "        for j in range(c):\n",
    "            if j < i:\n",
    "                arr[i][j] = 0\n",
    "    return arr\n",
    "triu(arr)"
   ]
  },
  {
   "cell_type": "markdown",
   "metadata": {},
   "source": [
    "# 14- Tril"
   ]
  },
  {
   "cell_type": "code",
   "execution_count": null,
   "metadata": {
    "collapsed": false
   },
   "outputs": [],
   "source": [
    "arr = np.array([[1,3,11],[2,0,14],[17,0,1]])\n",
    "arr"
   ]
  },
  {
   "cell_type": "code",
   "execution_count": null,
   "metadata": {
    "collapsed": false
   },
   "outputs": [],
   "source": [
    "def tril(arr):\n",
    "    r, c = shape(arr)\n",
    "    for i in range(r):\n",
    "        for j in range(c):\n",
    "            if j > i:\n",
    "                arr[i][j] = 0\n",
    "    return arr\n",
    "tril(arr)"
   ]
  },
  {
   "cell_type": "markdown",
   "metadata": {},
   "source": [
    "# 16- Element Wise Multiplication"
   ]
  },
  {
   "cell_type": "code",
   "execution_count": null,
   "metadata": {
    "collapsed": false
   },
   "outputs": [],
   "source": [
    "A = arange_reshape(6, 2, 3)\n",
    "B = arange_reshape(6, 2, 3)\n",
    "def element_wise_mul(A, B):\n",
    "    ra, ca = shape(A)\n",
    "    rb, cb = shape(B)\n",
    "    if ra == rb and ca == cb:    \n",
    "        C = np.zeros(ra*ca).reshape(ra, ca)\n",
    "        for i in range (ra):\n",
    "            for j in range (ca):\n",
    "                C[i][j] = A[i][j] * B[i][j]\n",
    "        return C\n",
    "    else :\n",
    "        return 'Wrong Size'"
   ]
  },
  {
   "cell_type": "markdown",
   "metadata": {},
   "source": [
    "A * B == element_wise_mul(A, B)"
   ]
  },
  {
   "cell_type": "markdown",
   "metadata": {},
   "source": [
    "# 17- Dot Product"
   ]
  },
  {
   "cell_type": "code",
   "execution_count": 35,
   "metadata": {
    "collapsed": false
   },
   "outputs": [
    {
     "name": "stdout",
     "output_type": "stream",
     "text": [
      "[[ 10.  13.]\n",
      " [ 28.  40.]]\n"
     ]
    }
   ],
   "source": [
    "A = arange_reshape(6, 2, 3)\n",
    "B = arange_reshape(6, 3, 2)\n",
    "def dot(A,B):\n",
    "    ra, ca = shape(A)\n",
    "    rb, cb = shape(B)\n",
    "    if ca == rb :    \n",
    "        C = np.zeros(ra*cb).reshape(ra, cb)\n",
    "        for i in range (ra):\n",
    "            for j in range (cb):\n",
    "                for k in range (ca):\n",
    "                    C[i][j]+= A[i][k] * B[k][j]\n",
    "        print (C)\n",
    "dot(A,B)"
   ]
  },
  {
   "cell_type": "code",
   "execution_count": 36,
   "metadata": {
    "collapsed": false
   },
   "outputs": [
    {
     "data": {
      "text/plain": [
       "array([[10, 13],\n",
       "       [28, 40]])"
      ]
     },
     "execution_count": 36,
     "metadata": {},
     "output_type": "execute_result"
    }
   ],
   "source": [
    "np.dot(A,B)"
   ]
  },
  {
   "cell_type": "code",
   "execution_count": null,
   "metadata": {
    "collapsed": true
   },
   "outputs": [],
   "source": []
  }
 ],
 "metadata": {
  "kernelspec": {
   "display_name": "Python 3",
   "language": "python",
   "name": "python3"
  },
  "language_info": {
   "codemirror_mode": {
    "name": "ipython",
    "version": 3
   },
   "file_extension": ".py",
   "mimetype": "text/x-python",
   "name": "python",
   "nbconvert_exporter": "python",
   "pygments_lexer": "ipython3",
   "version": "3.5.2"
  }
 },
 "nbformat": 4,
 "nbformat_minor": 2
}
